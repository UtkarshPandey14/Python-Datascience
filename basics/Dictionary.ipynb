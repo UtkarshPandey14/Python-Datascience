{
 "cells": [
  {
   "cell_type": "code",
   "execution_count": 2,
   "metadata": {},
   "outputs": [],
   "source": [
    "emp = ['Amar','deep','finance',2300,10000,30000,31,True,False,'Acme']"
   ]
  },
  {
   "cell_type": "code",
   "execution_count": 3,
   "metadata": {},
   "outputs": [],
   "source": [
    "emp_dict = {\n",
    "    'fname':'Amar',\n",
    "    'lname':'deep',\n",
    "    'dept':'finance',\n",
    "    'age':31,\n",
    "    'salary':10000,\n",
    "    'bonus':30000,\n",
    "    'is_manager':True,\n",
    "    'is_executive':False,\n",
    "    'company':'acme'}"
   ]
  },
  {
   "cell_type": "code",
   "execution_count": 4,
   "metadata": {},
   "outputs": [
    {
     "name": "stdout",
     "output_type": "stream",
     "text": [
      "{'fname': 'Amar', 'lname': 'deep', 'dept': 'finance', 'age': 31, 'salary': 10000, 'bonus': 30000, 'is_manager': True, 'is_executive': False, 'company': 'acme'}\n"
     ]
    }
   ],
   "source": [
    "print(emp_dict)"
   ]
  },
  {
   "cell_type": "code",
   "execution_count": 5,
   "metadata": {},
   "outputs": [],
   "source": [
    "weather_data = {\n",
    "    'date':'2019-01-04',\n",
    "    'temp':32,\n",
    "    'details':{\n",
    "        'humidty': 80,\n",
    "        'wind': 10,\n",
    "        'pressure':30,\n",
    "        'aqi': 120\n",
    "    },\n",
    "    'city':'lucknow',\n",
    "    'type':'sunshine',\n",
    "    'icon':'☀️'\n",
    "    }"
   ]
  },
  {
   "cell_type": "code",
   "execution_count": 6,
   "metadata": {},
   "outputs": [
    {
     "data": {
      "text/plain": [
       "dict_keys(['date', 'temp', 'details', 'city', 'type', 'icon'])"
      ]
     },
     "execution_count": 6,
     "metadata": {},
     "output_type": "execute_result"
    }
   ],
   "source": [
    "weather_data.keys()"
   ]
  },
  {
   "cell_type": "code",
   "execution_count": 7,
   "metadata": {},
   "outputs": [
    {
     "data": {
      "text/plain": [
       "dict_values(['2019-01-04', 32, {'humidty': 80, 'wind': 10, 'pressure': 30, 'aqi': 120}, 'lucknow', 'sunshine', '☀️'])"
      ]
     },
     "execution_count": 7,
     "metadata": {},
     "output_type": "execute_result"
    }
   ],
   "source": [
    "weather_data.values()"
   ]
  },
  {
   "cell_type": "code",
   "execution_count": 8,
   "metadata": {},
   "outputs": [
    {
     "data": {
      "text/plain": [
       "dict_keys(['fname', 'lname', 'dept', 'age', 'salary', 'bonus', 'is_manager', 'is_executive', 'company'])"
      ]
     },
     "execution_count": 8,
     "metadata": {},
     "output_type": "execute_result"
    }
   ],
   "source": [
    "emp_dict.keys()"
   ]
  },
  {
   "cell_type": "code",
   "execution_count": 9,
   "metadata": {},
   "outputs": [
    {
     "name": "stdout",
     "output_type": "stream",
     "text": [
      "{'date': '2019-01-04', 'temp': 32, 'details': {'humidty': 80, 'wind': 10, 'pressure': 30, 'aqi': 120}, 'city': 'lucknow', 'type': 'sunshine', 'icon': '☀️'}\n"
     ]
    }
   ],
   "source": [
    "print(weather_data)"
   ]
  },
  {
   "cell_type": "code",
   "execution_count": 10,
   "metadata": {},
   "outputs": [
    {
     "data": {
      "text/plain": [
       "'lucknow'"
      ]
     },
     "execution_count": 10,
     "metadata": {},
     "output_type": "execute_result"
    }
   ],
   "source": [
    "weather_data['city']"
   ]
  },
  {
   "cell_type": "code",
   "execution_count": 11,
   "metadata": {},
   "outputs": [
    {
     "data": {
      "text/plain": [
       "32"
      ]
     },
     "execution_count": 11,
     "metadata": {},
     "output_type": "execute_result"
    }
   ],
   "source": [
    "weather_data['temp']"
   ]
  },
  {
   "cell_type": "code",
   "execution_count": 12,
   "metadata": {},
   "outputs": [
    {
     "data": {
      "text/plain": [
       "{'humidty': 80, 'wind': 10, 'pressure': 30, 'aqi': 120}"
      ]
     },
     "execution_count": 12,
     "metadata": {},
     "output_type": "execute_result"
    }
   ],
   "source": [
    "weather_data['details']"
   ]
  },
  {
   "cell_type": "code",
   "execution_count": 13,
   "metadata": {},
   "outputs": [
    {
     "data": {
      "text/plain": [
       "32"
      ]
     },
     "execution_count": 13,
     "metadata": {},
     "output_type": "execute_result"
    }
   ],
   "source": [
    "weather_data.get('temp')"
   ]
  },
  {
   "cell_type": "code",
   "execution_count": 14,
   "metadata": {},
   "outputs": [],
   "source": [
    "weather_data.get('location')"
   ]
  },
  {
   "cell_type": "code",
   "execution_count": 15,
   "metadata": {},
   "outputs": [
    {
     "data": {
      "text/plain": [
       "'not found'"
      ]
     },
     "execution_count": 15,
     "metadata": {},
     "output_type": "execute_result"
    }
   ],
   "source": [
    "weather_data.get('cold','not found')"
   ]
  },
  {
   "cell_type": "code",
   "execution_count": 16,
   "metadata": {},
   "outputs": [],
   "source": [
    "#looping over a dictionary"
   ]
  },
  {
   "cell_type": "code",
   "execution_count": 17,
   "metadata": {},
   "outputs": [
    {
     "name": "stdout",
     "output_type": "stream",
     "text": [
      "fname => Amar\n",
      "lname => deep\n",
      "dept => finance\n",
      "age => 31\n",
      "salary => 10000\n",
      "bonus => 30000\n",
      "is_manager => True\n",
      "is_executive => False\n",
      "company => acme\n"
     ]
    }
   ],
   "source": [
    "for k in emp_dict:\n",
    "    print(k,'=>',emp_dict[k])"
   ]
  },
  {
   "cell_type": "code",
   "execution_count": 18,
   "metadata": {},
   "outputs": [],
   "source": [
    "#looping over a dictionary using items()"
   ]
  },
  {
   "cell_type": "code",
   "execution_count": 19,
   "metadata": {},
   "outputs": [
    {
     "name": "stdout",
     "output_type": "stream",
     "text": [
      "fname => Amar\n",
      "lname => deep\n",
      "dept => finance\n",
      "age => 31\n",
      "salary => 10000\n",
      "bonus => 30000\n",
      "is_manager => True\n",
      "is_executive => False\n",
      "company => acme\n"
     ]
    }
   ],
   "source": [
    "for k,v in emp_dict.items():\n",
    "    print(k,'=>',v)"
   ]
  },
  {
   "cell_type": "code",
   "execution_count": 20,
   "metadata": {},
   "outputs": [],
   "source": [
    "weather_data['temp'] = 35"
   ]
  },
  {
   "cell_type": "code",
   "execution_count": 21,
   "metadata": {},
   "outputs": [
    {
     "data": {
      "text/plain": [
       "{'date': '2019-01-04',\n",
       " 'temp': 35,\n",
       " 'details': {'humidty': 80, 'wind': 10, 'pressure': 30, 'aqi': 120},\n",
       " 'city': 'lucknow',\n",
       " 'type': 'sunshine',\n",
       " 'icon': '☀️'}"
      ]
     },
     "execution_count": 21,
     "metadata": {},
     "output_type": "execute_result"
    }
   ],
   "source": [
    "weather_data"
   ]
  },
  {
   "cell_type": "code",
   "execution_count": 25,
   "metadata": {},
   "outputs": [
    {
     "name": "stdout",
     "output_type": "stream",
     "text": [
      "{'fname': 'Amar', 'lname': 'deep', 'dept': 'finance', 'age': 31, 'salary': 10000, 'bonus': 30000, 'is_manager': True, 'is_executive': False, 'company': 'acme', 'designation': 'asst A'}\n"
     ]
    }
   ],
   "source": [
    "#adding data\n",
    "emp_dict['designation']= 'asst A'\n",
    "print(emp_dict)"
   ]
  },
  {
   "cell_type": "code",
   "execution_count": 27,
   "metadata": {},
   "outputs": [
    {
     "name": "stdout",
     "output_type": "stream",
     "text": [
      "{'fname': 'Amar', 'lname': 'deep', 'dept': 'finance', 'age': 31, 'salary': 30000, 'bonus': 30000, 'is_manager': True, 'is_executive': False, 'company': 'acme', 'designation': 'Section manager'}\n"
     ]
    }
   ],
   "source": [
    "#updating data\n",
    "emp_dict['designation']='Section manager'\n",
    "emp_dict['salary'] = 30000\n",
    "print(emp_dict)\n"
   ]
  },
  {
   "cell_type": "code",
   "execution_count": 32,
   "metadata": {},
   "outputs": [
    {
     "ename": "KeyError",
     "evalue": "'is_executive'",
     "output_type": "error",
     "traceback": [
      "\u001b[1;31m---------------------------------------------------------------------------\u001b[0m",
      "\u001b[1;31mKeyError\u001b[0m                                  Traceback (most recent call last)",
      "\u001b[1;32mc:\\Users\\91831\\Documents\\DigiPodium\\Dictionary.ipynb Cell 23\u001b[0m in \u001b[0;36m<cell line: 2>\u001b[1;34m()\u001b[0m\n\u001b[0;32m      <a href='vscode-notebook-cell:/c%3A/Users/91831/Documents/DigiPodium/Dictionary.ipynb#X31sZmlsZQ%3D%3D?line=0'>1</a>\u001b[0m \u001b[39m#remove any entry \u001b[39;00m\n\u001b[1;32m----> <a href='vscode-notebook-cell:/c%3A/Users/91831/Documents/DigiPodium/Dictionary.ipynb#X31sZmlsZQ%3D%3D?line=1'>2</a>\u001b[0m emp_dict\u001b[39m.\u001b[39;49mpop(\u001b[39m'\u001b[39;49m\u001b[39mis_executive\u001b[39;49m\u001b[39m'\u001b[39;49m)\n",
      "\u001b[1;31mKeyError\u001b[0m: 'is_executive'"
     ]
    }
   ],
   "source": [
    "#remove any entry \n",
    "emp_dict.pop('is_executive')"
   ]
  },
  {
   "cell_type": "code",
   "execution_count": 29,
   "metadata": {},
   "outputs": [
    {
     "data": {
      "text/plain": [
       "{'fname': 'Amar',\n",
       " 'lname': 'deep',\n",
       " 'dept': 'finance',\n",
       " 'age': 31,\n",
       " 'salary': 30000,\n",
       " 'bonus': 30000,\n",
       " 'is_manager': True,\n",
       " 'company': 'acme',\n",
       " 'designation': 'Section manager'}"
      ]
     },
     "execution_count": 29,
     "metadata": {},
     "output_type": "execute_result"
    }
   ],
   "source": [
    "emp_dict"
   ]
  },
  {
   "cell_type": "code",
   "execution_count": 33,
   "metadata": {},
   "outputs": [],
   "source": [
    "if \"is_executive\" in emp_dict:\n",
    "    emp_dict.pop('is_executive')"
   ]
  },
  {
   "cell_type": "code",
   "execution_count": 34,
   "metadata": {},
   "outputs": [],
   "source": [
    "emp_dict['is_employee']=True"
   ]
  },
  {
   "cell_type": "code",
   "execution_count": 35,
   "metadata": {},
   "outputs": [
    {
     "data": {
      "text/plain": [
       "{'fname': 'Amar',\n",
       " 'lname': 'deep',\n",
       " 'dept': 'finance',\n",
       " 'age': 31,\n",
       " 'salary': 30000,\n",
       " 'bonus': 30000,\n",
       " 'is_manager': True,\n",
       " 'company': 'acme',\n",
       " 'designation': 'Section manager',\n",
       " 'is_employee': True}"
      ]
     },
     "execution_count": 35,
     "metadata": {},
     "output_type": "execute_result"
    }
   ],
   "source": [
    "emp_dict"
   ]
  },
  {
   "cell_type": "code",
   "execution_count": 36,
   "metadata": {},
   "outputs": [],
   "source": [
    "if \"is_employee\" in emp_dict:\n",
    "    emp_dict.pop('is_employee')"
   ]
  },
  {
   "cell_type": "code",
   "execution_count": 42,
   "metadata": {},
   "outputs": [],
   "source": [
    "reports = {\n",
    "    '001': {\n",
    "        'name':'Amar',\n",
    "        'subjects': {'english':80,'maths':90,'science':80} \n",
    "    },\n",
    "    '002':{\n",
    "        'name':'Vijay',\n",
    "        'subjects':{'english':70,'maths':80,'science':79}\n",
    "    },\n",
    "    '003':{\n",
    "        'name':'Raj',\n",
    "        'subjects':{'english':60,'maths':89,'science':89}\n",
    "    },\n",
    "}\n"
   ]
  },
  {
   "cell_type": "code",
   "execution_count": 43,
   "metadata": {},
   "outputs": [
    {
     "data": {
      "text/plain": [
       "{'001': {'name': 'Amar',\n",
       "  'subjects': {'english': 80, 'maths': 90, 'science': 80}},\n",
       " '002': {'name': 'Vijay',\n",
       "  'subjects': {'english': 70, 'maths': 80, 'science': 79}},\n",
       " '003': {'name': 'Raj',\n",
       "  'subjects': {'english': 60, 'maths': 89, 'science': 89}}}"
      ]
     },
     "execution_count": 43,
     "metadata": {},
     "output_type": "execute_result"
    }
   ],
   "source": [
    "reports"
   ]
  },
  {
   "cell_type": "code",
   "execution_count": 48,
   "metadata": {},
   "outputs": [
    {
     "name": "stdout",
     "output_type": "stream",
     "text": [
      "roll no. 001\n",
      "name\n",
      "subjects\n",
      "english 80\n",
      "maths 90\n",
      "science 80\n",
      "subjects {'english': 80, 'maths': 90, 'science': 80}\n",
      "--------------------\n",
      "roll no. 002\n",
      "name\n",
      "subjects\n",
      "english 70\n",
      "maths 80\n",
      "science 79\n",
      "subjects {'english': 70, 'maths': 80, 'science': 79}\n",
      "--------------------\n",
      "roll no. 003\n",
      "name\n",
      "subjects\n",
      "english 60\n",
      "maths 89\n",
      "science 89\n",
      "subjects {'english': 60, 'maths': 89, 'science': 89}\n",
      "--------------------\n"
     ]
    }
   ],
   "source": [
    "for roll, data in reports.items():\n",
    "    print(\"roll no.\",roll)\n",
    "    for key, val in data.items():\n",
    "        print(key)\n",
    "        if isinstance(val,dict):\n",
    "            for sub,marks in val.items():\n",
    "                print(sub,marks)\n",
    "            else:\n",
    "                print(key,val)\n",
    "            print('--'*10)"
   ]
  },
  {
   "cell_type": "code",
   "execution_count": 53,
   "metadata": {},
   "outputs": [
    {
     "name": "stdout",
     "output_type": "stream",
     "text": [
      "roll no. 001\n",
      "name\n",
      "subjects\n",
      "subjects\n",
      "english 80\n",
      "Total:80/300\n",
      "Prct:26.67%\n",
      "maths 90\n",
      "Total:170/300\n",
      "Prct:56.67%\n",
      "science 80\n",
      "Total:250/300\n",
      "Prct:83.33%\n",
      "subjects {'english': 80, 'maths': 90, 'science': 80}\n",
      "--------------------\n",
      "roll no. 002\n",
      "name\n",
      "subjects\n",
      "subjects\n",
      "english 70\n",
      "Total:70/300\n",
      "Prct:23.33%\n",
      "maths 80\n",
      "Total:150/300\n",
      "Prct:50.00%\n",
      "science 79\n",
      "Total:229/300\n",
      "Prct:76.33%\n",
      "subjects {'english': 70, 'maths': 80, 'science': 79}\n",
      "--------------------\n",
      "roll no. 003\n",
      "name\n",
      "subjects\n",
      "subjects\n",
      "english 60\n",
      "Total:60/300\n",
      "Prct:20.00%\n",
      "maths 89\n",
      "Total:149/300\n",
      "Prct:49.67%\n",
      "science 89\n",
      "Total:238/300\n",
      "Prct:79.33%\n",
      "subjects {'english': 60, 'maths': 89, 'science': 89}\n",
      "--------------------\n"
     ]
    }
   ],
   "source": [
    "for roll, data in reports.items():\n",
    "    print(\"roll no.\",roll)\n",
    "    for key, val in data.items():\n",
    "        print(key)\n",
    "        if isinstance(val,dict):\n",
    "            print(key)\n",
    "            total = 0\n",
    "            for sub,marks in val.items():\n",
    "                print(sub,marks)\n",
    "                total += marks\n",
    "                print(f'Total:{total}/300')\n",
    "                print(f'Prct:{total/300*100:.2f}%')\n",
    "            else:\n",
    "                print(key,val)\n",
    "            print('--'*10)"
   ]
  },
  {
   "cell_type": "markdown",
   "metadata": {},
   "source": [
    "# file handling\n",
    "- open a file\n",
    "- reading a file\n",
    "- writimg a file\n",
    "- appending a file"
   ]
  },
  {
   "cell_type": "code",
   "execution_count": 55,
   "metadata": {},
   "outputs": [
    {
     "name": "stdout",
     "output_type": "stream",
     "text": [
      "print(\"hemllo world\")\n"
     ]
    }
   ],
   "source": [
    "f = open('hello.py')\n",
    "print(f.read())"
   ]
  },
  {
   "cell_type": "code",
   "execution_count": 61,
   "metadata": {},
   "outputs": [
    {
     "name": "stdout",
     "output_type": "stream",
     "text": [
      "hello im working on it\n"
     ]
    }
   ],
   "source": [
    "f = open(r'C:\\Users\\91831\\utk.txt')\n",
    "print(f.read())"
   ]
  },
  {
   "cell_type": "code",
   "execution_count": 63,
   "metadata": {},
   "outputs": [],
   "source": [
    "data = 'hi everyone,this is a sample file'\n",
    "with open('mydata.txt','w') as file:                                       #w is for creating a file\n",
    "    file.write(data)"
   ]
  },
  {
   "cell_type": "code",
   "execution_count": 64,
   "metadata": {},
   "outputs": [],
   "source": [
    "data = '\\nthis is the new data that is going to be written'\n",
    "with open('mydata.txt','a') as file:                                             #a is to add data , this is basically append\n",
    "    file.write(data)"
   ]
  },
  {
   "cell_type": "code",
   "execution_count": 66,
   "metadata": {},
   "outputs": [
    {
     "name": "stdout",
     "output_type": "stream",
     "text": [
      "file bio.text saved\n"
     ]
    }
   ],
   "source": [
    "file = 'bio.text'\n",
    "content = ''\n",
    "while True:\n",
    "    line = input('Enter a line (or q to quit):')\n",
    "    if line == 'q':\n",
    "        break\n",
    "    content += line + '\\n'\n",
    "\n",
    "with open(file,'w') as f:\n",
    "    f.write(content)\n",
    "    print(f'file {file} saved')"
   ]
  },
  {
   "cell_type": "code",
   "execution_count": null,
   "metadata": {},
   "outputs": [],
   "source": []
  }
 ],
 "metadata": {
  "kernelspec": {
   "display_name": "Python 3.9.12 ('base')",
   "language": "python",
   "name": "python3"
  },
  "language_info": {
   "codemirror_mode": {
    "name": "ipython",
    "version": 3
   },
   "file_extension": ".py",
   "mimetype": "text/x-python",
   "name": "python",
   "nbconvert_exporter": "python",
   "pygments_lexer": "ipython3",
   "version": "3.9.12"
  },
  "orig_nbformat": 4,
  "vscode": {
   "interpreter": {
    "hash": "980ab6be2a4798e2d7baa63451eb8a477f378cfe19a0ce759f7b905a82d0dd1f"
   }
  }
 },
 "nbformat": 4,
 "nbformat_minor": 2
}
