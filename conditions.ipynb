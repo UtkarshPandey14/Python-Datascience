{
 "cells": [
  {
   "cell_type": "markdown",
   "metadata": {},
   "source": [
    "#condition\n",
    "\n",
    "1.if\n",
    "2.if else\n",
    "3.if elif else\n",
    "4.nested if\n",
    "5.match case(only works on python 3.10 or above)"
   ]
  },
  {
   "cell_type": "markdown",
   "metadata": {},
   "source": [
    "Syntax\n",
    "```\n",
    "if condition:\n",
    "    statement\n",
    "```\n",
    " "
   ]
  },
  {
   "cell_type": "code",
   "execution_count": 3,
   "metadata": {},
   "outputs": [
    {
     "name": "stdout",
     "output_type": "stream",
     "text": [
      "100 is greater than 10\n"
     ]
    }
   ],
   "source": [
    "if 100 > 10:\n",
    "    print('100 is greater than 10')"
   ]
  },
  {
   "cell_type": "code",
   "execution_count": 4,
   "metadata": {},
   "outputs": [],
   "source": [
    "if 5 > 10:\n",
    "    print('5 is greater than 10')"
   ]
  },
  {
   "cell_type": "code",
   "execution_count": 5,
   "metadata": {},
   "outputs": [
    {
     "name": "stdout",
     "output_type": "stream",
     "text": [
      "this is great\n",
      "5 is greater than 20\n"
     ]
    }
   ],
   "source": [
    "a = 5\n",
    "b = 20\n",
    "if a < b:\n",
    "    print('this is great')\n",
    "    print(f'{a} is greater than {b}')"
   ]
  },
  {
   "cell_type": "code",
   "execution_count": 9,
   "metadata": {},
   "outputs": [
    {
     "name": "stdout",
     "output_type": "stream",
     "text": [
      "this is a string\n"
     ]
    }
   ],
   "source": [
    "data  = input(\"Enter a data: \")\n",
    "if data.isalpha():\n",
    "    print(\"this is a string\")\n",
    "if data.isnumeric():\n",
    "    print(\"this is a number\")\n",
    "if data.isspace():\n",
    "    print(\"this is a space\")"
   ]
  },
  {
   "cell_type": "code",
   "execution_count": 14,
   "metadata": {},
   "outputs": [
    {
     "name": "stdout",
     "output_type": "stream",
     "text": [
      "it's cool\n"
     ]
    }
   ],
   "source": [
    "temp = 0\n",
    "if temp > 25:\n",
    "    print(\"it's hot\")\n",
    "else:\n",
    "    print(\"it's cool\")"
   ]
  },
  {
   "cell_type": "code",
   "execution_count": 18,
   "metadata": {},
   "outputs": [
    {
     "name": "stdout",
     "output_type": "stream",
     "text": [
      "An apple a day keeps doctor away\n"
     ]
    }
   ],
   "source": [
    "fruit = input(\"What fruit do you like\")\n",
    "if fruit == 'apple':\n",
    "    print('An apple a day keeps doctor away')\n",
    "elif fruit == 'mango':\n",
    "    print(\"Mango is the king of the fruits\")\n",
    "elif fruit == 'banana':\n",
    "    print('banana is a good souce of potassium')\n",
    "elif fruit == 'orange':\n",
    "    print('orange is a good souce of vitamin C')\n",
    "else:\n",
    "    print(\"Not found in the database\")"
   ]
  },
  {
   "cell_type": "code",
   "execution_count": 22,
   "metadata": {},
   "outputs": [
    {
     "name": "stdout",
     "output_type": "stream",
     "text": [
      "Wrong username\n"
     ]
    }
   ],
   "source": [
    "username = input (\"Enter your username\")\n",
    "password = input (\"Enter your password\")\n",
    "if username == 'sam':\n",
    "    if password =='123':\n",
    "        print(\"welcome sam\")\n",
    "    else:\n",
    "        print (\"wrong password\")\n",
    "else:\n",
    "    print (\"Wrong username\")"
   ]
  },
  {
   "cell_type": "code",
   "execution_count": 23,
   "metadata": {},
   "outputs": [
    {
     "name": "stdout",
     "output_type": "stream",
     "text": [
      "wrong username or password\n"
     ]
    }
   ],
   "source": [
    "if username == 'sam' and password == '123':\n",
    "    print('welcome sam')\n",
    "else:\n",
    "    print('wrong username or password')"
   ]
  },
  {
   "cell_type": "markdown",
   "metadata": {},
   "source": [
    "# wap to calculate the employee total salary based on following conditions\n",
    "- if basic salary is less than 10000 then hra is 10% of basic salary and da is 90% of basic salary\n",
    "- if basic salary is greater than 10000 then hra is 20% of basic salary and da is 80% of basic salary\n",
    "- if basic salary is greater than 20000 then hra is 25% of basic salary and da is 75% of basic salary"
   ]
  },
  {
   "cell_type": "code",
   "execution_count": 1,
   "metadata": {},
   "outputs": [
    {
     "name": "stdout",
     "output_type": "stream",
     "text": [
      "7500.0,is your hra\n",
      "22500.0,is your da\n",
      "60000.0 is your total salary\n"
     ]
    }
   ],
   "source": [
    "bas_salary = float(input(\"enter your salary\"))\n",
    "if bas_salary<10000:\n",
    "    hra=0.10*bas_salary\n",
    "    da=0.90*bas_salary\n",
    "elif bas_salary>10000 and bas_salary<20000:\n",
    "    hra=0.20*bas_salary\n",
    "    da=0.80*bas_salary\n",
    "elif bas_salary>20000:\n",
    "    hra=0.25*bas_salary\n",
    "    da=0.75*bas_salary\n",
    "total_salary=hra+da+bas_salary\n",
    "print(f\"{hra},is your hra\")\n",
    "print(f\"{da},is your da\")\n",
    "print(total_salary,'is your total salary')"
   ]
  },
  {
   "cell_type": "code",
   "execution_count": 4,
   "metadata": {},
   "outputs": [
    {
     "name": "stdout",
     "output_type": "stream",
     "text": [
      "not available\n"
     ]
    }
   ],
   "source": [
    "icecream = input('enter the icecream name: ')\n",
    "match(icecream):\n",
    "    case \"chocolate\":\n",
    "        print('chocolate = 200.00')\n",
    "    case \"vanilla\":\n",
    "        print(\"vanilla = 140.00\")\n",
    "    case \"strawbwrry\":\n",
    "        print(\"strawberry = 230.00\")\n",
    "    case _:\n",
    "        print(\"not available\")"
   ]
  },
  {
   "cell_type": "code",
   "execution_count": null,
   "metadata": {},
   "outputs": [],
   "source": []
  }
 ],
 "metadata": {
  "kernelspec": {
   "display_name": "Python 3.10.6 ('py310')",
   "language": "python",
   "name": "python3"
  },
  "language_info": {
   "codemirror_mode": {
    "name": "ipython",
    "version": 3
   },
   "file_extension": ".py",
   "mimetype": "text/x-python",
   "name": "python",
   "nbconvert_exporter": "python",
   "pygments_lexer": "ipython3",
   "version": "3.10.6"
  },
  "orig_nbformat": 4,
  "vscode": {
   "interpreter": {
    "hash": "454340f4636c20450dead1ebb8920a43fbb7bc37b073c1b0f6f4285e3801e956"
   }
  }
 },
 "nbformat": 4,
 "nbformat_minor": 2
}
