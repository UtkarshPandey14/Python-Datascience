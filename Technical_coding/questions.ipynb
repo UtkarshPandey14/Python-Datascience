{
 "cells": [
  {
   "cell_type": "code",
   "execution_count": 7,
   "metadata": {},
   "outputs": [
    {
     "name": "stdout",
     "output_type": "stream",
     "text": [
      "5\n",
      "24\n",
      "2\n"
     ]
    }
   ],
   "source": [
    "# P1 (all integral divisors)\n",
    "n = int(input(\"Enter your number\"))\n",
    "c = 0\n",
    "for i in range(1,int(n**(1/2))+1):\n",
    "    if n%i == 0:\n",
    "        if i == n//i:\n",
    "            print(i)\n",
    "    else:\n",
    "        print(i)\n",
    "        print(n//2)\n",
    "        c=c+2\n",
    "print(c)"
   ]
  },
  {
   "cell_type": "code",
   "execution_count": 9,
   "metadata": {},
   "outputs": [
    {
     "name": "stdout",
     "output_type": "stream",
     "text": [
      "48 = 1 * 48\n",
      "48 = 2 * 24\n",
      "48 = 3 * 16\n",
      "48 = 4 * 12\n",
      "48 = 6 * 8\n",
      "6\n"
     ]
    }
   ],
   "source": [
    "# P2 (all possible products of 2 no's)\n",
    "n = int(input(\"Enter your number\"))\n",
    "c=0\n",
    "for i in range(1,int(n**(1/2))+1):\n",
    "    if n%i == 0:\n",
    "        print(n,\"=\",i,\"*\",n//i)\n",
    "    c = c+1\n",
    "print(c)"
   ]
  },
  {
   "cell_type": "code",
   "execution_count": 11,
   "metadata": {},
   "outputs": [
    {
     "name": "stdout",
     "output_type": "stream",
     "text": [
      "1\n",
      "4\n",
      "16\n",
      "c= 6\n"
     ]
    }
   ],
   "source": [
    "# P3 (all perfect sqare)\n",
    "n = int(input(\"Enter your number\"))\n",
    "c = 0\n",
    "for i in range (1,int(n**(1/2))+1):\n",
    "    if n%(i**2) == 0:\n",
    "        print(i**2)\n",
    "    c = c+1\n",
    "print(\"c=\",c)"
   ]
  },
  {
   "cell_type": "code",
   "execution_count": 12,
   "metadata": {},
   "outputs": [
    {
     "name": "stdout",
     "output_type": "stream",
     "text": [
      "1\n",
      "8\n",
      "c= 3\n"
     ]
    }
   ],
   "source": [
    "# P4 (all perfect cube factors)\n",
    "n = int(input(\"enter your number\"))\n",
    "c = 0\n",
    "for i in range (1,int(n**(1/3))+1):\n",
    "    if n % (i**3) == 0:\n",
    "        print(i**3)\n",
    "    c = c+1\n",
    "print(\"c=\",c)"
   ]
  },
  {
   "cell_type": "code",
   "execution_count": 6,
   "metadata": {},
   "outputs": [
    {
     "name": "stdout",
     "output_type": "stream",
     "text": [
      "Prime\n"
     ]
    }
   ],
   "source": [
    "# P5 (prime or not prime)\n",
    "n = int(input(\"enter your number\"))\n",
    "c = 0\n",
    "if n == 2 or 3:\n",
    "    print(\"Prime\")\n",
    "else:\n",
    "    for i in range (2,int(i**2)+1):\n",
    "        if n%i == 0:\n",
    "            print(\"Not Prime\")\n",
    "            break\n",
    "        else:\n",
    "            c = c+1\n",
    "            if c==0:\n",
    "                print(\"Prime\")\n",
    "\n"
   ]
  },
  {
   "cell_type": "code",
   "execution_count": 7,
   "metadata": {},
   "outputs": [],
   "source": [
    "def is_prime():\n",
    "    n = int(input(\"enter your number\"))\n",
    "    c = 0\n",
    "    if n == 2 or 3:\n",
    "        print(\"Prime\")\n",
    "    else:\n",
    "        for i in range (2,int(i**2)+1):\n",
    "            if n%i == 0:\n",
    "                print(\"Not Prime\")\n",
    "                break\n",
    "            else:\n",
    "                c = c+1\n",
    "                if c==0:\n",
    "                    print(\"Prime\")\n",
    "\n"
   ]
  },
  {
   "cell_type": "code",
   "execution_count": null,
   "metadata": {},
   "outputs": [],
   "source": [
    "# P6 (prime divisors)\n",
    "n = int(input(\"enter your number\"))\n",
    "c=0\n",
    "for i in range (1,int(n**(1/2))+1):\n",
    "    if n % i == 0:\n",
    "        if def is_prime(n)"
   ]
  }
 ],
 "metadata": {
  "kernelspec": {
   "display_name": "Python 3.9.12 ('base')",
   "language": "python",
   "name": "python3"
  },
  "language_info": {
   "codemirror_mode": {
    "name": "ipython",
    "version": 3
   },
   "file_extension": ".py",
   "mimetype": "text/x-python",
   "name": "python",
   "nbconvert_exporter": "python",
   "pygments_lexer": "ipython3",
   "version": "3.9.12"
  },
  "orig_nbformat": 4,
  "vscode": {
   "interpreter": {
    "hash": "980ab6be2a4798e2d7baa63451eb8a477f378cfe19a0ce759f7b905a82d0dd1f"
   }
  }
 },
 "nbformat": 4,
 "nbformat_minor": 2
}
